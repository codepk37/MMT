{
 "cells": [
  {
   "cell_type": "code",
   "execution_count": 1,
   "metadata": {},
   "outputs": [],
   "source": [
    "import os\n",
    "import csv"
   ]
  },
  {
   "cell_type": "code",
   "execution_count": 9,
   "metadata": {},
   "outputs": [
    {
     "name": "stdout",
     "output_type": "stream",
     "text": [
      "Combined CSV file 'combined.csv' created successfully.\n"
     ]
    }
   ],
   "source": [
    "# Specify the name of the combined CSV file\n",
    "combined_csv_filename = \"combined.csv\"\n",
    "\n",
    "# Open the combined CSV file in write mode\n",
    "with open(combined_csv_filename, 'w', newline='', encoding='utf-8') as combined_csv_file:\n",
    "    csv_writer = csv.writer(combined_csv_file)\n",
    "\n",
    "    # Iterate through each user folder\n",
    "    for user_folder in os.listdir():\n",
    "        # Check if it's a directory\n",
    "        if os.path.isdir(user_folder):\n",
    "            # Construct the path to the user's CSV file\n",
    "            csv_file_path = os.path.join(user_folder, f'sh_{user_folder}.csv')\n",
    "\n",
    "            # Check if the CSV file exists\n",
    "            if os.path.exists(csv_file_path):\n",
    "                # Read the CSV file and append rows (excluding the header) to the combined CSV file\n",
    "                with open(csv_file_path, 'r', encoding='utf-8') as user_csv_file:\n",
    "                    csv_reader = csv.reader(user_csv_file)\n",
    "                    next(csv_reader)  # Skip the header row\n",
    "                    for row in csv_reader:\n",
    "                        csv_writer.writerow(row)\n",
    "\n",
    "print(f\"Combined CSV file '{combined_csv_filename}' created successfully.\")\n"
   ]
  },
  {
   "cell_type": "code",
   "execution_count": 9,
   "metadata": {},
   "outputs": [
    {
     "name": "stdout",
     "output_type": "stream",
     "text": [
      "File 'combined.csv' has been modified successfully.\n"
     ]
    }
   ],
   "source": [
    "import csv\n",
    "\n",
    "# Read the content of the combined.csv file\n",
    "with open(\"combinedRepeatsAll.csv\", 'r', newline='', encoding='utf-8') as combined_csv_file:\n",
    "    csv_reader = csv.reader(combined_csv_file)\n",
    "    header = next(csv_reader)  # Read the header row\n",
    "    rows = list(csv_reader)    # Read all remaining rows\n",
    "\n",
    "# Remove the date column (first column) and time played column (last column)\n",
    "modified_rows = [[row[0], row[1]] for row in rows]\n",
    "\n",
    "# with open(\"combinedRepeats.csv\", 'w', newline='', encoding='utf-8') as modified_csv_file:\n",
    "#     csv_writer = csv.writer(modified_csv_file)\n",
    "#     csv_writer.writerow([header[1], header[2]])  # Write header\n",
    "#     csv_writer.writerows(modified_rows)          # Write modified rows\n",
    "\n",
    "# print(\"File 'combinedRepeats.csv' has been created successfully.\")\n",
    "\n",
    "# Remove repeated instances based on the artistName (2nd column)\n",
    "unique_rows = []\n",
    "artist_names = set()\n",
    "for row in modified_rows:\n",
    "    if row[0] not in artist_names:\n",
    "        unique_rows.append(row)\n",
    "        artist_names.add(row[0])\n",
    "\n",
    "# Write the modified content back to the combined.csv file\n",
    "with open(\"combinedAll.csv\", 'w', newline='', encoding='utf-8') as combined_csv_file:\n",
    "    csv_writer = csv.writer(combined_csv_file)\n",
    "    csv_writer.writerow([header[0], header[1]])  # Write header\n",
    "    csv_writer.writerows(unique_rows)           # Write unique rows\n",
    "\n",
    "print(\"File 'combined.csv' has been modified successfully.\")\n"
   ]
  },
  {
   "cell_type": "code",
   "execution_count": null,
   "metadata": {},
   "outputs": [],
   "source": [
    "# Read the content of the combinedRepeats.csv file\n",
    "with open(\"combinedRepeats.csv\", 'r', newline='', encoding='utf-8') as combined_csv_file:\n",
    "    csv_reader = csv.reader(combined_csv_file)\n",
    "    header = next(csv_reader)  # Read the header row\n",
    "    rows = list(csv_reader)    # Read all remaining rows\n",
    "\n",
    "# Remove the date column (first column) and time played column (last column)\n",
    "modified_rows = [[row[1], row[2]] for row in rows]\n",
    "\n",
    "# Write the modified content to a new file\n",
    "with open(\"modified_combinedRepeats.csv\", 'w', newline='', encoding='utf-8') as modified_csv_file:\n",
    "    csv_writer = csv.writer(modified_csv_file)\n",
    "    csv_writer.writerow([header[1], header[2]])  # Write header\n",
    "    csv_writer.writerows(modified_rows)          # Write modified rows\n",
    "\n",
    "print(\"File 'modified_combinedRepeats.csv' has been created successfully.\")\n"
   ]
  },
  {
   "cell_type": "code",
   "execution_count": 5,
   "metadata": {},
   "outputs": [
    {
     "name": "stdout",
     "output_type": "stream",
     "text": [
      "Contents of combined.csv have been copied to combinedAll.csv.\n"
     ]
    }
   ],
   "source": [
    "import shutil\n",
    "\n",
    "# Define the file paths\n",
    "combined_csv_path = \"combined.csv\"\n",
    "combined_all_csv_path = \"combinedAll.csv\"\n",
    "\n",
    "# Copy the contents of combined.csv to combinedAll.csv\n",
    "with open(combined_csv_path, 'r', encoding='utf-8') as source_file:\n",
    "    with open(combined_all_csv_path, 'a', encoding='utf-8') as dest_file:\n",
    "        shutil.copyfileobj(source_file, dest_file)\n",
    "\n",
    "print(f\"Contents of {combined_csv_path} have been copied to {combined_all_csv_path}.\")\n",
    "\n"
   ]
  }
 ],
 "metadata": {
  "kernelspec": {
   "display_name": "Python 3",
   "language": "python",
   "name": "python3"
  },
  "language_info": {
   "codemirror_mode": {
    "name": "ipython",
    "version": 3
   },
   "file_extension": ".py",
   "mimetype": "text/x-python",
   "name": "python",
   "nbconvert_exporter": "python",
   "pygments_lexer": "ipython3",
   "version": "3.10.7"
  }
 },
 "nbformat": 4,
 "nbformat_minor": 2
}
